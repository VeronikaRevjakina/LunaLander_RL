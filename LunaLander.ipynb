{
 "cells": [
  {
   "cell_type": "code",
   "execution_count": 2,
   "metadata": {},
   "outputs": [
    {
     "name": "stderr",
     "output_type": "stream",
     "text": [
      "Using TensorFlow backend.\n"
     ]
    }
   ],
   "source": [
    "import gym\n",
    "import random\n",
    "from keras import Sequential\n",
    "from collections import deque\n",
    "from keras.layers import Dense\n",
    "from keras.optimizers import adam\n",
    "import matplotlib.pyplot as plt\n",
    "from keras.activations import relu, linear\n",
    "\n",
    "import numpy as np"
   ]
  },
  {
   "cell_type": "code",
   "execution_count": 10,
   "metadata": {},
   "outputs": [
    {
     "name": "stdout",
     "output_type": "stream",
     "text": [
      "Box(8,)\n",
      "[inf inf inf inf inf inf inf inf]\n",
      "[-inf -inf -inf -inf -inf -inf -inf -inf]\n",
      "8\n"
     ]
    }
   ],
   "source": [
    "env = gym.make('LunarLander-v2')\n",
    "# Landing pad is always at coordinates (0,0). \n",
    "# Coordinates are the first two numbers in state vector. \n",
    "# Reward for moving from the top of the screen to landing pad and zero speed is about 100..140 points. \n",
    "# If lander moves away from landing pad it loses reward back. \n",
    "# Episode finishes if the lander crashes or comes to rest, receiving additional -100 or +100 points. \n",
    "# Each leg ground contact is +10. \n",
    "# Firing main engine is -0.3 points each frame. Solved is 200 points. \n",
    "# Landing outside landing pad is possible. \n",
    "# Fuel is infinite, so an agent can learn to fly and then land on its first attempt. \n",
    "# Four discrete actions available: do nothing, fire left orientation engine, fire main engine,\n",
    "#     fire right orientation engine.\n",
    "\n",
    "print(env.observation_space)\n",
    "print(env.observation_space.high)\n",
    "print(env.observation_space.low)\n",
    "obs_size = env.observation_space.shape[0]\n",
    "print(obs_size)"
   ]
  },
  {
   "cell_type": "code",
   "execution_count": 9,
   "metadata": {},
   "outputs": [
    {
     "name": "stdout",
     "output_type": "stream",
     "text": [
      "-76.09117154009367\n",
      "-131.60169391064753\n",
      "-408.2377808717626\n",
      "-182.96031703311473\n",
      "-359.96201733608706\n",
      "-121.26160167794612\n",
      "-216.90136446776316\n",
      "-501.2584007026191\n",
      "-74.72028169081048\n",
      "-127.00197073999618\n",
      "-109.30880091204284\n",
      "-178.78587977693718\n",
      "-115.91864816550228\n",
      "-197.01982445381321\n",
      "-98.54451388120903\n",
      "10.941737404175583\n",
      "-289.84081703933884\n",
      "-321.60963417668245\n",
      "-127.96548625071343\n",
      "-283.4306951108398\n",
      "-105.84525848540619\n",
      "-90.68991666245802\n",
      "-197.66198856399382\n",
      "-104.29179822725567\n",
      "-333.58161480855966\n",
      "-388.3357336889067\n",
      "-147.20942529575166\n",
      "-118.11830075591402\n",
      "-123.33705015373206\n",
      "-70.02705600225505\n",
      "4.838136517284781\n",
      "-106.53878603350991\n",
      "-152.88092331188983\n",
      "-368.18264031134527\n",
      "-173.95224217521542\n",
      "-68.71983727579436\n",
      "-227.9824360103706\n",
      "-297.1124843577488\n",
      "-89.53212830988443\n",
      "-100.624475821276\n",
      "-75.33534800608732\n",
      "-71.3494698211212\n",
      "-232.4138201448486\n",
      "-79.53578106721253\n",
      "-84.90792141697231\n",
      "-180.88894967853898\n",
      "-52.64260320556362\n",
      "-221.9220148920389\n",
      "-93.9058169619801\n",
      "-93.29161706209143\n",
      "-229.02902394468742\n",
      "-341.43761116536206\n",
      "-102.27971202019364\n",
      "-120.37182398904469\n",
      "-107.67321192934857\n",
      "-87.13149046370899\n",
      "-234.63026463094238\n",
      "-131.9957416761489\n",
      "-434.37322935393144\n",
      "-95.78916097935344\n",
      "-136.02678884482714\n",
      "-250.56918275081068\n",
      "-491.84461836619585\n",
      "-144.17723685782425\n",
      "-124.6735987621949\n",
      "-181.04306872705334\n",
      "-222.69402141909677\n",
      "-108.01129298283985\n",
      "-145.94741844929734\n",
      "-82.78609727150935\n",
      "17.833335002910815\n",
      "-146.13401064717021\n",
      "-83.3563318382978\n",
      "-118.98251486721907\n",
      "-378.5001134107254\n",
      "-70.23377906897214\n",
      "-101.91498094463277\n",
      "-396.36476446540394\n",
      "-305.49929435201307\n",
      "-87.21988856441865\n",
      "-90.8869877616128\n",
      "-188.6004803012332\n",
      "-147.75225620697887\n",
      "-146.82903457501868\n",
      "-84.89285577823776\n",
      "-102.98836920437388\n",
      "-206.04139653121373\n",
      "-257.50704869385504\n",
      "-287.09779852163865\n",
      "-74.71400012505956\n",
      "-289.87104220384487\n",
      "-356.61010430932106\n",
      "-137.96580502417586\n",
      "-103.4929175080449\n",
      "-146.02202298462367\n",
      "-76.45527046191815\n",
      "-123.14053044522288\n",
      "-128.63512940563584\n",
      "-207.896335921828\n",
      "-325.98239720971253\n"
     ]
    }
   ],
   "source": [
    "test_games_num = 100\n",
    "test_scores = []\n",
    "max_steps_in_game = 1000\n",
    "for game in range(test_games_num):\n",
    "    score = 0\n",
    "    observation = env.reset()  # get initial state\n",
    "    for step in range(max_steps_in_game):\n",
    "        env.render()  # show gif\n",
    "#         print(observation)  # print state vector 8, fixed for environment\n",
    "        action = env.action_space.sample()\n",
    "        observation, reward, done, info = env.step(action)  # step returns 4 parameters\n",
    "        score +=reward\n",
    "        if done:  # game over need reset\n",
    "#             print(\"Episode finished after {} timesteps\".format(step+1))\n",
    "            print(score)\n",
    "            break\n",
    "    test_scores.append(score)"
   ]
  },
  {
   "cell_type": "code",
   "execution_count": 11,
   "metadata": {},
   "outputs": [
    {
     "name": "stdout",
     "output_type": "stream",
     "text": [
      "Average reward on test 100 games:  -172.83697185238046\n"
     ]
    }
   ],
   "source": [
    "print(\"Average reward on test 100 games: \", np.mean(test_scores))"
   ]
  },
  {
   "cell_type": "code",
   "execution_count": 12,
   "metadata": {},
   "outputs": [
    {
     "name": "stdout",
     "output_type": "stream",
     "text": [
      "Number of games in 100 where reward\n",
      "less than 0:  97\n",
      "equals 0:  0\n",
      "more than 0:  3\n",
      "equals or more than 100:  0\n",
      "equals or more than 200:  0\n"
     ]
    }
   ],
   "source": [
    "test_scores = np.array(test_scores)\n",
    "print(\"Number of games in 100 where reward\")\n",
    "print(\"less than 0: \", len(test_scores[test_scores<0]))\n",
    "print(\"equals 0: \", len(test_scores[test_scores==0]))\n",
    "print(\"more than 0: \", len(test_scores[test_scores>0]))\n",
    "print(\"equals or more than 100: \", len(test_scores[test_scores>=100]))\n",
    "print(\"equals or more than 200: \", len(test_scores[test_scores>=200]))"
   ]
  },
  {
   "cell_type": "code",
   "execution_count": null,
   "metadata": {},
   "outputs": [],
   "source": []
  }
 ],
 "metadata": {
  "kernelspec": {
   "display_name": "Python 3",
   "language": "python",
   "name": "python3"
  },
  "language_info": {
   "codemirror_mode": {
    "name": "ipython",
    "version": 3
   },
   "file_extension": ".py",
   "mimetype": "text/x-python",
   "name": "python",
   "nbconvert_exporter": "python",
   "pygments_lexer": "ipython3",
   "version": "3.7.4"
  }
 },
 "nbformat": 4,
 "nbformat_minor": 2
}
