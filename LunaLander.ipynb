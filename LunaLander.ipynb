{
 "cells": [
  {
   "cell_type": "code",
   "execution_count": 13,
   "metadata": {},
   "outputs": [],
   "source": [
    "import gym\n",
    "import random\n",
    "from keras import Sequential\n",
    "# import tensorflow as tf\n",
    "from collections import deque\n",
    "from keras.layers import Dense\n",
    "from keras.optimizers import adam\n",
    "import matplotlib.pyplot as plt\n",
    "from keras.activations import relu, linear\n",
    "import psutil\n",
    "import gc\n",
    "\n",
    "import numpy as np"
   ]
  },
  {
   "cell_type": "code",
   "execution_count": 14,
   "metadata": {
    "scrolled": true
   },
   "outputs": [
    {
     "name": "stdout",
     "output_type": "stream",
     "text": [
      "Box(8,)\n",
      "[inf inf inf inf inf inf inf inf]\n",
      "[-inf -inf -inf -inf -inf -inf -inf -inf]\n"
     ]
    }
   ],
   "source": [
    "env = gym.make('LunarLander-v2')\n",
    "# Landing pad is always at coordinates (0,0). \n",
    "# Coordinates are the first two numbers in state vector. \n",
    "# Reward for moving from the top of the screen to landing pad and zero speed is about 100..140 points. \n",
    "# If lander moves away from landing pad it loses reward back. \n",
    "# Episode finishes if the lander crashes or comes to rest, receiving additional -100 or +100 points. \n",
    "# Each leg ground contact is +10. \n",
    "# Firing main engine is -0.3 points each frame. Solved is 200 points. \n",
    "# Landing outside landing pad is possible. \n",
    "# Fuel is infinite, so an agent can learn to fly and then land on its first attempt. \n",
    "# Four discrete actions available: do nothing, fire left orientation engine, fire main engine,\n",
    "#     fire right orientation engine.\n",
    "\n",
    "print(env.observation_space)\n",
    "print(env.observation_space.high)\n",
    "print(env.observation_space.low)\n",
    "state_size = env.observation_space.shape[0]"
   ]
  },
  {
   "cell_type": "code",
   "execution_count": 15,
   "metadata": {},
   "outputs": [],
   "source": [
    "# # neural network architecture, input=states, output=actions\n",
    "def build_model(input_size, output_size):\n",
    "    model = Sequential()\n",
    "    model.add(Dense(128, input_dim = input_size, activation='relu'))\n",
    "    model.add(Dense(64, activation='relu'))\n",
    "    model.add(Dense(output_size, activation = \"linear\"))\n",
    "    model.compile(loss='mse', optimizer=\"Adam\")\n",
    "    return model"
   ]
  },
  {
   "cell_type": "markdown",
   "metadata": {},
   "source": [
    "![Explanation of environment exploration/exploitation] (https://github.com/VeronikaRevjakina/LunaLander_RL/blob/master/firefox_mQVLhQrl3o.png?raw=true)\n",
    "\n",
    "[QL](https://www.freecodecamp.org/news/diving-deeper-into-reinforcement-learning-with-q-learning-c18d0db58efe)"
   ]
  },
  {
   "cell_type": "code",
   "execution_count": 33,
   "metadata": {},
   "outputs": [],
   "source": [
    "def dql_train(env, state_size, action_size, model, train_games_num, max_steps_in_game,batch_size,discount_rate,\n",
    "              epsilon=1,epsilon_decay = .99):\n",
    "    iter_num_to_check_stop = 100\n",
    "    scores = np.array([])\n",
    "    #object for remembering all things need for dql in memory\n",
    "    memory = {\"state\":np.array([]), \n",
    "            \"action\":np.array([], dtype = int), \n",
    "            \"reward\":np.array([]),\n",
    "            \"new_state\":np.array([]), \n",
    "            \"done\":np.array([])\n",
    "            }\n",
    "    for game in range(train_games_num):\n",
    "        \n",
    "        if game == iter_num_to_check_stop:  # check if far away from negativa value to quicker learn\n",
    "            last_negative_reward_index = np.argwhere(scores<0)[-1]\n",
    "            positive_tail_length = game - last_negative_reward_index\n",
    "            if positive_tail_length >= 100:\n",
    "                break\n",
    "            else:\n",
    "                iter_num_to_check_stop = last_negative_reward_index + 100\n",
    "        obs = env.reset() #to initial state\n",
    "#         obs = obs.reshape([1,state_size]) # reshape for neural network input\n",
    "        obs = np.reshape(obs, (1, state_size))\n",
    "#         np.reshape(obs, (1, state_size))\n",
    "#         obs = np.reshape(obs, (1, state_size))\n",
    "        game_score = 0\n",
    "        \n",
    "        for step in range(max_steps_in_game):  \n",
    "            # get an action number random or model\n",
    "            if np.random.rand() <= epsilon:\n",
    "                action =int(random.randrange(action_size))  # get random because explore env\n",
    "            else:\n",
    "#                 act_values = model(obs) # model predict based on state\n",
    "#                 action = int(np.argmax(act_values[0]))\n",
    "                action = np.argmax(model.predict(obs)[0])\n",
    "#             env.render()\n",
    "            # take an action\n",
    "            new_obs, reward, done, info = env.step(action)\n",
    "#             new_obs = new_obs.reshape([1,state_size]) # reshape for neural network input\n",
    "            new_obs = np.reshape(new_obs, (1, state_size))\n",
    "            game_score += reward\n",
    "        \n",
    "#             max_len = 250000\n",
    "#             if len(memory[\"state\"])>= max_len or psutil.virtual_memory().available / (1024.0 ** 3) <=2:\n",
    "#                 gc.collect()\n",
    "#                 memory = {\"state\":np.array([]), \n",
    "#                         \"action\":np.array([], dtype = int), \n",
    "#                         \"reward\":np.array([]),\n",
    "#                         \"new_state\":np.array([]), \n",
    "#                         \"done\":np.array([])\n",
    "#                         }\n",
    "            #  remember into memory this step\n",
    "            if len(memory[\"state\"])>0:\n",
    "                memory[\"state\"] = np.vstack((memory[\"state\"], obs)) # to get matrix of row = state vector of 8 values\n",
    "                memory[\"new_state\"] = np.vstack((memory[\"new_state\"], new_obs))\n",
    "            else:\n",
    "                memory[\"state\"] = np.array(obs) # if not initialized new\n",
    "                memory[\"new_state\"] = np.array(new_obs)\n",
    "            memory[\"action\"] = np.append(memory[\"action\"], action)  # just vectors\n",
    "            memory[\"reward\"] = np.append(memory[\"reward\"], reward)\n",
    "            memory[\"done\"] = np.append(memory[\"done\"], done)\n",
    "\n",
    "            obs = new_obs  # change to new state\n",
    "            \n",
    "            # if we get data for batch then update model weights with earned data, clear it and start again:\n",
    "            if len(memory[\"state\"])>=batch_size:\n",
    "                # randomly sample batch from memory with 64 size always\n",
    "                indexes = np.random.randint(len(memory[\"done\"]), size=batch_size)\n",
    "                batch = {\n",
    "                    \"state\": np.squeeze(memory[\"state\"][indexes]), \n",
    "                    \"action\": memory[\"action\"][indexes], \n",
    "                    \"reward\": memory[\"reward\"][indexes], \n",
    "                    \"new_state\": np.squeeze(memory[\"new_state\"][indexes]), \n",
    "                    \"done\": memory[\"done\"][indexes]\n",
    "                    }\n",
    "                # Bellman's equation for target only for chosen actions, \n",
    "                #(1-done) to discard cumilative gain for last actions\n",
    "                targets = batch[\"reward\"] + \\\n",
    "                        discount_rate*(np.amax(model.predict_on_batch(batch[\"new_state\"]), axis=1))*(1-batch[\"done\"])\n",
    "                targets_full = model.predict_on_batch(batch[\"state\"])  # needed to fill counted above target \n",
    "                # set elements in \"indices\" to 0's\n",
    "#                 indices =[]\n",
    "#                 for i in range(batch_size):\n",
    "#                     indices.append([i,batch[\"action\"][i]])\n",
    "#                 values =targets\n",
    "#                 inputs = targets_full\n",
    "#                 # set elements in \"indices\" to 0's\n",
    "#                 maskValues = tf.tile([0.0], [tf.shape(indices)[0]])  # one 0 for each element in \"indices\"\n",
    "#                 mask = tf.SparseTensor(indices, maskValues, tf.shape(inputs, out_type = tf.int64))\n",
    "#                 maskedInput = tf.multiply(inputs, tf.sparse.to_dense(mask, default_value = 1.0))  # set values in coordinates in \"indices\" to 0's, leave everything else intact\n",
    "\n",
    "                # replace elements in \"indices\" with \"values\"\n",
    "#                 delta = tf.SparseTensor(indices, values, tf.shape(inputs, out_type = tf.int64))\n",
    "#                 outputs = tf.add(tf.cast(maskedInput, tf.float32), tf.cast(tf.sparse.to_dense(delta), tf.float32))  # add \"values\" to elements in \"indices\" (which are 0's so far)\n",
    "                # on performed actions, rest stays as model counted\n",
    "#                 targets_full[np.array(range(batch_size)), batch[\"action\"]] = targets # change specific indexes\n",
    "                ind = np.array([i for i in range(batch_size)])\n",
    "                targets_full[[ind], batch[\"action\"]] = targets\n",
    "#                 ind = np.array([i for i in range(batch_size)])\n",
    "#                 targets_full = tf.constant(targets_full[[ind], batch[\"action\"]]) \n",
    "#                 print(targets)\n",
    "#                 print(batch[\"action\"])\n",
    "#                 print(targets_full)\n",
    "#                 print(indices)\n",
    "#                 print(targets)\n",
    "#                 print(outputs)\n",
    "                # update model weights\n",
    "                model.fit(batch[\"state\"], targets_full, epochs = 1, verbose = 0)\n",
    "                \n",
    "                if epsilon > 0.01:\n",
    "                      epsilon *= epsilon_decay  # update exploration/exploitation parameter\n",
    "\n",
    "            if done: # from step performed\n",
    "                break\n",
    "\n",
    "        scores = np.append(scores, game_score)\n",
    "        if (game+1) % 100 == 0:\n",
    "            print(f'Avg score for the last {100} games: {np.mean(scores[-100:])}')\n",
    "    print(f\"Evaluate in {game+1} iterations\")\n",
    "    return scores, model\n",
    "            "
   ]
  },
  {
   "cell_type": "code",
   "execution_count": 34,
   "metadata": {},
   "outputs": [
    {
     "name": "stdout",
     "output_type": "stream",
     "text": [
      "Avg score for the last 100 games: -11.086008368235428\n",
      "Avg score for the last 100 games: 45.76813336029838\n",
      "Avg score for the last 100 games: 42.53700352647241\n",
      "Avg score for the last 100 games: 46.361457188267785\n",
      "Evaluate in 400 iterations\n"
     ]
    }
   ],
   "source": [
    "games_iter = 400\n",
    "num_iter = 400\n",
    "discount_rate = 0.99  # how much depend on long time reward\n",
    "batch_size = 64  # for sampling from memory, training \n",
    "action_size =4 # fixed for environment\n",
    "\n",
    "model = build_model(state_size, action_size)  #get model of architecture above\n",
    "\n",
    "traning_score, trained_model = dql_train(env,state_size,action_size, model, games_iter,num_iter,batch_size,discount_rate)\n",
    "trained_model.save('trained_model.h5')"
   ]
  },
  {
   "cell_type": "code",
   "execution_count": 37,
   "metadata": {},
   "outputs": [
    {
     "data": {
      "image/png": "[encoded data removed]",
      "text/plain": [
       "<Figure size 432x288 with 1 Axes>"
      ]
     },
     "metadata": {
      "needs_background": "light"
     },
     "output_type": "display_data"
    }
   ],
   "source": [
    "x=list(range(len(traning_score)))\n",
    "plt.plot(x, traning_score)\n",
    "plt.xlabel(\"Iteration number\")\n",
    "plt.ylabel(\"Reward\")\n",
    "plt.show()"
   ]
  },
  {
   "cell_type": "code",
   "execution_count": null,
   "metadata": {},
   "outputs": [],
   "source": [
    "from keras.models import load_model\n",
    "model = load_model('trained_model.h5')"
   ]
  },
  {
   "cell_type": "code",
   "execution_count": 43,
   "metadata": {},
   "outputs": [
    {
     "name": "stdout",
     "output_type": "stream",
     "text": [
      "189.79770284226396\n",
      "18.877309591536843\n",
      "9.411233999881995\n",
      "252.19734272982163\n",
      "28.807237252489074\n",
      "213.063794154023\n",
      "-25.59602671741023\n",
      "-106.04068400536008\n",
      "23.606301210390093\n",
      "7.794551316466763\n",
      "42.169875999900384\n",
      "245.9856736547068\n",
      "216.12421978384035\n",
      "124.23167258405432\n",
      "0.49933231207410467\n",
      "46.47078183633605\n",
      "26.490900772746667\n",
      "48.20407807436381\n",
      "-37.58934595070087\n",
      "156.01672920763937\n",
      "-6.608450545105266\n",
      "55.22889978900618\n",
      "-23.91076577870122\n",
      "207.3514283183577\n",
      "17.654428944213542\n",
      "17.35784372951292\n",
      "201.35283328331624\n",
      "51.52839460238884\n",
      "-22.45106251345304\n",
      "21.357584076622583\n",
      "-9.775594724727968\n",
      "18.12196811973773\n",
      "-10.072727804621369\n",
      "45.346024012610904\n",
      "31.68538268066168\n",
      "25.342055058396145\n",
      "17.088663383865487\n",
      "16.439975697947922\n",
      "-3.0587305459503007\n",
      "0.4193390226487339\n",
      "17.410682592331646\n",
      "-1.5445217285528277\n",
      "217.48474167471915\n",
      "26.31621130669702\n",
      "19.698620439612764\n",
      "241.02037911038224\n",
      "21.584564258882995\n",
      "-16.972817399724903\n",
      "223.96154732010154\n",
      "9.426880878871291\n",
      "14.506871475970264\n",
      "2.9512616522877764\n",
      "222.0020261118931\n",
      "42.315514845051084\n",
      "239.64215542975998\n",
      "-8.378996568358987\n",
      "12.28304922108823\n",
      "57.18798015259959\n",
      "53.382416300526764\n",
      "216.78731520863005\n",
      "11.804711312965702\n",
      "-8.785668080558514\n",
      "58.14090423749086\n",
      "-51.32346425286038\n",
      "-6.2544671029620655\n",
      "31.63279459057408\n",
      "-10.167630396495083\n",
      "-10.203146403703357\n",
      "5.344737012949493\n",
      "45.122058735543455\n",
      "283.39623537351963\n",
      "-17.450976829784878\n",
      "13.306439013596071\n",
      "-272.9395804686019\n",
      "11.87849397322512\n",
      "-38.9271038451714\n",
      "68.53106300492799\n",
      "253.80499708700683\n",
      "-21.55252771782694\n",
      "30.012290163543362\n",
      "-29.34717595531596\n",
      "33.72645925880009\n",
      "54.95487786316084\n",
      "17.619194870350523\n",
      "59.75747052357022\n",
      "-2.1023539686755903\n",
      "202.19158025851874\n",
      "-3.8869615160018003\n",
      "7.299481766736448\n",
      "7.4892786994267295\n",
      "-18.673713830957272\n",
      "-31.76967890280509\n",
      "-323.59247090365176\n",
      "13.737699904468956\n",
      "-13.528939811692327\n",
      "-0.966323639311974\n",
      "-16.8246007087357\n",
      "25.90384304621303\n",
      "7.666729606574755\n",
      "10.016693232072253\n"
     ]
    }
   ],
   "source": [
    "test_games_num = 100\n",
    "test_scores = []\n",
    "max_steps_in_game = 1000\n",
    "for game in range(test_games_num):\n",
    "    score = 0\n",
    "    obs = env.reset()  # get initial state\n",
    "    for step in range(max_steps_in_game):\n",
    "#         env.render()  # show gif\n",
    "#         print(observation)  # print state vector 8, fixed for environment\n",
    "        obs = np.reshape(obs, (1, state_size))\n",
    "        rewards = trained_model.predict(obs)\n",
    "        action = int(np.argmax(rewards[0]))\n",
    "#         action = env.action_space.sample()\n",
    "        obs, reward, done, info = env.step(action)  # step returns 4 parameters\n",
    "        score +=reward\n",
    "        if done:  # game over need reset\n",
    "#             print(\"Episode finished after {} timesteps\".format(step+1))\n",
    "            print(score)\n",
    "            break\n",
    "    test_scores.append(score)"
   ]
  },
  {
   "cell_type": "code",
   "execution_count": 44,
   "metadata": {},
   "outputs": [
    {
     "name": "stdout",
     "output_type": "stream",
     "text": [
      "Average reward on test 100 games:  41.17027300938684\n"
     ]
    }
   ],
   "source": [
    "print(\"Average reward on test 100 games: \", np.mean(test_scores))"
   ]
  },
  {
   "cell_type": "code",
   "execution_count": 45,
   "metadata": {},
   "outputs": [
    {
     "name": "stdout",
     "output_type": "stream",
     "text": [
      "Number of games in 100 where reward\n",
      "less than 0:  30\n",
      "equals 0:  0\n",
      "more than 0:  70\n",
      "equals or more than 100:  18\n",
      "equals or more than 200:  15\n"
     ]
    }
   ],
   "source": [
    "test_scores = np.array(test_scores)\n",
    "print(\"Number of games in 100 where reward\")\n",
    "print(\"less than 0: \", len(test_scores[test_scores<0]))\n",
    "print(\"equals 0: \", len(test_scores[test_scores==0]))\n",
    "print(\"more than 0: \", len(test_scores[test_scores>0]))\n",
    "print(\"equals or more than 100: \", len(test_scores[test_scores>=100]))\n",
    "print(\"equals or more than 200: \", len(test_scores[test_scores>=200]))"
   ]
  }
 ],
 "metadata": {
  "kernelspec": {
   "display_name": "Python 3",
   "language": "python",
   "name": "python3"
  },
  "language_info": {
   "codemirror_mode": {
    "name": "ipython",
    "version": 3
   },
   "file_extension": ".py",
   "mimetype": "text/x-python",
   "name": "python",
   "nbconvert_exporter": "python",
   "pygments_lexer": "ipython3",
   "version": "3.7.4"
  }
 },
 "nbformat": 4,
 "nbformat_minor": 2
}
