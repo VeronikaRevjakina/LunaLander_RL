{
 "cells": [
  {
   "cell_type": "code",
   "execution_count": 19,
   "metadata": {},
   "outputs": [],
   "source": [
    "import gym\n",
    "import random\n",
    "from keras import Sequential\n",
    "import tensorflow as tf\n",
    "from collections import deque\n",
    "from keras.layers import Dense\n",
    "from keras.optimizers import adam\n",
    "import matplotlib.pyplot as plt\n",
    "from keras.activations import relu, linear\n",
    "\n",
    "import numpy as np"
   ]
  },
  {
   "cell_type": "code",
   "execution_count": 20,
   "metadata": {
    "scrolled": true
   },
   "outputs": [
    {
     "name": "stdout",
     "output_type": "stream",
     "text": [
      "Box(8,)\n",
      "[inf inf inf inf inf inf inf inf]\n",
      "[-inf -inf -inf -inf -inf -inf -inf -inf]\n"
     ]
    }
   ],
   "source": [
    "env = gym.make('LunarLander-v2')\n",
    "# Landing pad is always at coordinates (0,0). \n",
    "# Coordinates are the first two numbers in state vector. \n",
    "# Reward for moving from the top of the screen to landing pad and zero speed is about 100..140 points. \n",
    "# If lander moves away from landing pad it loses reward back. \n",
    "# Episode finishes if the lander crashes or comes to rest, receiving additional -100 or +100 points. \n",
    "# Each leg ground contact is +10. \n",
    "# Firing main engine is -0.3 points each frame. Solved is 200 points. \n",
    "# Landing outside landing pad is possible. \n",
    "# Fuel is infinite, so an agent can learn to fly and then land on its first attempt. \n",
    "# Four discrete actions available: do nothing, fire left orientation engine, fire main engine,\n",
    "#     fire right orientation engine.\n",
    "\n",
    "print(env.observation_space)\n",
    "print(env.observation_space.high)\n",
    "print(env.observation_space.low)\n",
    "state_size = env.observation_space.shape[0]"
   ]
  },
  {
   "cell_type": "code",
   "execution_count": 21,
   "metadata": {},
   "outputs": [],
   "source": [
    "# # neural network architecture, input=states, output=actions\n",
    "# def build_model(state_size, action_size):\n",
    "#     model = Sequential()\n",
    "#     model.add(Dense(150, input_dim=state_size, activation=relu))\n",
    "#     model.add(Dense(120, activation=relu))\n",
    "#     model.add(Dense(action_size, activation=linear))\n",
    "#     model.compile(loss='mse', optimizer=\"Adam\")\n",
    "#     return model\n",
    "\n",
    "def build_model(input_size, output_size):\n",
    "    model = tf.keras.Sequential()\n",
    "    model.add(tf.keras.layers.Dense(128, input_dim = input_size, activation='relu'))\n",
    "    model.add(tf.keras.layers.Dense(64, activation='relu'))\n",
    "    model.add(tf.keras.layers.Dense(output_size, activation = \"linear\"))\n",
    "    model.compile(loss='mse', optimizer=\"Adam\")\n",
    "    return model"
   ]
  },
  {
   "cell_type": "markdown",
   "metadata": {},
   "source": [
    "![Explanation of environment exploration/exploitation] (https://github.com/VeronikaRevjakina/LunaLander_RL/blob/master/firefox_mQVLhQrl3o.png?raw=true)\n",
    "\n",
    "[QL](https://www.freecodecamp.org/news/diving-deeper-into-reinforcement-learning-with-q-learning-c18d0db58efe)"
   ]
  },
  {
   "cell_type": "code",
   "execution_count": 46,
   "metadata": {},
   "outputs": [],
   "source": [
    "def dql_train(env, state_size, action_size, model, train_games_num, max_steps_in_game,batch_size,discount_rate,\n",
    "              epsilon=1,epsilon_decay = .99):\n",
    "    scores = np.array([])\n",
    "    #object for remembering all things need for dql in memory\n",
    "    memory = {\"state\":np.array([]), \n",
    "            \"action\":np.array([], dtype = int), \n",
    "            \"reward\":np.array([]),\n",
    "            \"new_state\":np.array([]), \n",
    "            \"done\":np.array([])\n",
    "            }\n",
    "    for game in range(train_games_num):\n",
    "        obs = env.reset() #to initial state\n",
    "        obs = obs.reshape([1,state_size]) # reshape for neural network input\n",
    "#         np.reshape(obs, (1, state_size))\n",
    "#         obs = np.reshape(obs, (1, state_size))\n",
    "        game_score = 0\n",
    "        \n",
    "        for step in range(max_steps_in_game):  \n",
    "            # get an action number random or model\n",
    "            if np.random.rand() <= epsilon:\n",
    "                action =int(random.randrange(action_size))  # get random because explore env\n",
    "            else:\n",
    "                act_values = model(tf.convert_to_tensor(obs)) # model predict based on state\n",
    "                action = int(np.argmax(act_values[0]))\n",
    "            env.render()\n",
    "            # take an action\n",
    "            new_obs, reward, done, info = env.step(action)\n",
    "            new_obs = new_obs.reshape([1,state_size]) # reshape for neural network input\n",
    "            game_score += reward\n",
    "            \n",
    "            #  remember into memory this step\n",
    "            if len(memory[\"state\"])>0:\n",
    "                memory[\"state\"] = np.vstack((memory[\"state\"], obs)) # to get matrix of row = state vector of 8 values\n",
    "                memory[\"new_state\"] = np.vstack((memory[\"new_state\"], new_obs))\n",
    "            else:\n",
    "                memory[\"state\"] = np.array(obs) # if not initialized new\n",
    "                memory[\"new_state\"] = np.array(new_obs)\n",
    "            memory[\"action\"] = np.append(memory[\"action\"], action)  # just vectors\n",
    "            memory[\"reward\"] = np.append(memory[\"reward\"], reward)\n",
    "            memory[\"done\"] = np.append(memory[\"done\"], done)\n",
    "\n",
    "            obs = new_obs  # change to new state\n",
    "            \n",
    "            # if we get data for batch then update model weights with earned data, clear it and start again:\n",
    "            if len(memory[\"state\"])>=batch_size:\n",
    "                # randomly sample batch from memory with 64 size always\n",
    "                indexes = np.random.randint(len(memory[\"done\"]), size=batch_size)\n",
    "                batch = {\n",
    "                    \"state\": np.squeeze(memory[\"state\"][indexes]), \n",
    "                    \"action\": memory[\"action\"][indexes], \n",
    "                    \"reward\": memory[\"reward\"][indexes], \n",
    "                    \"new_state\": np.squeeze(memory[\"new_state\"][indexes]), \n",
    "                    \"done\": memory[\"done\"][indexes]\n",
    "                    }\n",
    "                # Bellman's equation for target only for chosen actions, \n",
    "                #(1-done) to discard cumilative gain for last actions\n",
    "                targets = batch[\"reward\"] + \\\n",
    "                        discount_rate*(np.amax(model.predict_on_batch(batch[\"new_state\"]), axis=1))*(1-batch[\"done\"])\n",
    "                targets_full = model.predict_on_batch(batch[\"state\"])  # needed to fill counted above target \n",
    "                # on performed actions, rest stays as model counted\n",
    "                targets_full[np.array(range(batch_size)), batch[\"action\"]] = targets # change specific indexes\n",
    "#                 ind = np.array([i for i in range(batch_size)])\n",
    "#                 targets_full1 = tf.constant(targets_full[[ind], batch[\"action\"]]) \n",
    "#                 targets_full=targets\n",
    "\n",
    "\n",
    "                # update model weights\n",
    "                model.fit(batch[\"state\"], targets_full, epochs = 1, verbose = 0)\n",
    "                \n",
    "                if epsilon > 0.01:\n",
    "                      epsilon *= epsilon_decay  # update exploration/exploitation parameter\n",
    "\n",
    "            if done: # from step performed\n",
    "                break\n",
    "\n",
    "        scores = np.append(scores, game_score)\n",
    "        if (game+1) % 100 == 0:\n",
    "            print(f'Avg score for the last {100} games: {np.mean(scores[-100:])}')\n",
    "    print(f\"Evaluate in {game+1} iterations\")\n",
    "    return scores, model\n",
    "            "
   ]
  },
  {
   "cell_type": "code",
   "execution_count": 47,
   "metadata": {},
   "outputs": [
    {
     "ename": "TypeError",
     "evalue": "'tensorflow.python.framework.ops.EagerTensor' object does not support item assignment",
     "output_type": "error",
     "traceback": [
      "\u001b[1;31m---------------------------------------------------------------------------\u001b[0m",
      "\u001b[1;31mTypeError\u001b[0m                                 Traceback (most recent call last)",
      "\u001b[1;32m<ipython-input-47-ba37eb876fb5>\u001b[0m in \u001b[0;36m<module>\u001b[1;34m\u001b[0m\n\u001b[0;32m      7\u001b[0m \u001b[0mmodel\u001b[0m \u001b[1;33m=\u001b[0m \u001b[0mbuild_model\u001b[0m\u001b[1;33m(\u001b[0m\u001b[0mstate_size\u001b[0m\u001b[1;33m,\u001b[0m \u001b[0maction_size\u001b[0m\u001b[1;33m)\u001b[0m  \u001b[1;31m#get model of architecture above\u001b[0m\u001b[1;33m\u001b[0m\u001b[1;33m\u001b[0m\u001b[0m\n\u001b[0;32m      8\u001b[0m \u001b[1;33m\u001b[0m\u001b[0m\n\u001b[1;32m----> 9\u001b[1;33m \u001b[0mtraning_score\u001b[0m\u001b[1;33m,\u001b[0m \u001b[0mtrained_model\u001b[0m \u001b[1;33m=\u001b[0m \u001b[0mdql_train\u001b[0m\u001b[1;33m(\u001b[0m\u001b[0menv\u001b[0m\u001b[1;33m,\u001b[0m\u001b[0mstate_size\u001b[0m\u001b[1;33m,\u001b[0m\u001b[0maction_size\u001b[0m\u001b[1;33m,\u001b[0m \u001b[0mmodel\u001b[0m\u001b[1;33m,\u001b[0m \u001b[0mgames_iter\u001b[0m\u001b[1;33m,\u001b[0m\u001b[0mnum_iter\u001b[0m\u001b[1;33m,\u001b[0m\u001b[0mbatch_size\u001b[0m\u001b[1;33m,\u001b[0m\u001b[0mdiscount_rate\u001b[0m\u001b[1;33m)\u001b[0m\u001b[1;33m\u001b[0m\u001b[1;33m\u001b[0m\u001b[0m\n\u001b[0m",
      "\u001b[1;32m<ipython-input-46-c678820feb03>\u001b[0m in \u001b[0;36mdql_train\u001b[1;34m(env, state_size, action_size, model, train_games_num, max_steps_in_game, batch_size, discount_rate, epsilon, epsilon_decay)\u001b[0m\n\u001b[0;32m     59\u001b[0m                 \u001b[0mtargets_full\u001b[0m \u001b[1;33m=\u001b[0m \u001b[0mmodel\u001b[0m\u001b[1;33m.\u001b[0m\u001b[0mpredict_on_batch\u001b[0m\u001b[1;33m(\u001b[0m\u001b[0mbatch\u001b[0m\u001b[1;33m[\u001b[0m\u001b[1;34m\"state\"\u001b[0m\u001b[1;33m]\u001b[0m\u001b[1;33m)\u001b[0m  \u001b[1;31m# needed to fill counted above target\u001b[0m\u001b[1;33m\u001b[0m\u001b[1;33m\u001b[0m\u001b[0m\n\u001b[0;32m     60\u001b[0m                 \u001b[1;31m# on performed actions, rest stays as model counted\u001b[0m\u001b[1;33m\u001b[0m\u001b[1;33m\u001b[0m\u001b[1;33m\u001b[0m\u001b[0m\n\u001b[1;32m---> 61\u001b[1;33m                 \u001b[0mtargets_full\u001b[0m\u001b[1;33m[\u001b[0m\u001b[0mnp\u001b[0m\u001b[1;33m.\u001b[0m\u001b[0marray\u001b[0m\u001b[1;33m(\u001b[0m\u001b[0mrange\u001b[0m\u001b[1;33m(\u001b[0m\u001b[0mbatch_size\u001b[0m\u001b[1;33m)\u001b[0m\u001b[1;33m)\u001b[0m\u001b[1;33m,\u001b[0m \u001b[0mbatch\u001b[0m\u001b[1;33m[\u001b[0m\u001b[1;34m\"action\"\u001b[0m\u001b[1;33m]\u001b[0m\u001b[1;33m]\u001b[0m \u001b[1;33m=\u001b[0m \u001b[0mtargets\u001b[0m \u001b[1;31m# change specific indexes\u001b[0m\u001b[1;33m\u001b[0m\u001b[1;33m\u001b[0m\u001b[0m\n\u001b[0m\u001b[0;32m     62\u001b[0m \u001b[1;31m#                 ind = np.array([i for i in range(batch_size)])\u001b[0m\u001b[1;33m\u001b[0m\u001b[1;33m\u001b[0m\u001b[1;33m\u001b[0m\u001b[0m\n\u001b[0;32m     63\u001b[0m \u001b[1;31m#                 targets_full1 = tf.constant(targets_full[[ind], batch[\"action\"]])\u001b[0m\u001b[1;33m\u001b[0m\u001b[1;33m\u001b[0m\u001b[1;33m\u001b[0m\u001b[0m\n",
      "\u001b[1;31mTypeError\u001b[0m: 'tensorflow.python.framework.ops.EagerTensor' object does not support item assignment"
     ]
    }
   ],
   "source": [
    "games_iter = 800\n",
    "num_iter = 1000\n",
    "discount_rate = 0.99  # how much depend on long time reward\n",
    "batch_size = 64  # for sampling from memory, training \n",
    "action_size =4 # fixed for environment\n",
    "\n",
    "model = build_model(state_size, action_size)  #get model of architecture above\n",
    "\n",
    "traning_score, trained_model = dql_train(env,state_size,action_size, model, games_iter,num_iter,batch_size,discount_rate)"
   ]
  },
  {
   "cell_type": "code",
   "execution_count": 24,
   "metadata": {},
   "outputs": [
    {
     "ename": "NameError",
     "evalue": "name 'training_score' is not defined",
     "output_type": "error",
     "traceback": [
      "\u001b[1;31m---------------------------------------------------------------------------\u001b[0m",
      "\u001b[1;31mNameError\u001b[0m                                 Traceback (most recent call last)",
      "\u001b[1;32m<ipython-input-24-7ed6adc0912f>\u001b[0m in \u001b[0;36m<module>\u001b[1;34m\u001b[0m\n\u001b[1;32m----> 1\u001b[1;33m \u001b[0mx\u001b[0m\u001b[1;33m=\u001b[0m\u001b[0mlist\u001b[0m\u001b[1;33m(\u001b[0m\u001b[0mrange\u001b[0m\u001b[1;33m(\u001b[0m\u001b[0mlen\u001b[0m\u001b[1;33m(\u001b[0m\u001b[0mtraining_score\u001b[0m\u001b[1;33m)\u001b[0m\u001b[1;33m)\u001b[0m\u001b[1;33m)\u001b[0m\u001b[1;33m\u001b[0m\u001b[1;33m\u001b[0m\u001b[0m\n\u001b[0m\u001b[0;32m      2\u001b[0m \u001b[0mplt\u001b[0m\u001b[1;33m.\u001b[0m\u001b[0mplot\u001b[0m\u001b[1;33m(\u001b[0m\u001b[0mx\u001b[0m\u001b[1;33m,\u001b[0m \u001b[0mtraining_score\u001b[0m\u001b[1;33m)\u001b[0m\u001b[1;33m\u001b[0m\u001b[1;33m\u001b[0m\u001b[0m\n\u001b[0;32m      3\u001b[0m \u001b[0mplt\u001b[0m\u001b[1;33m.\u001b[0m\u001b[0mxlabel\u001b[0m\u001b[1;33m(\u001b[0m\u001b[1;34m\"Iteration number\"\u001b[0m\u001b[1;33m)\u001b[0m\u001b[1;33m\u001b[0m\u001b[1;33m\u001b[0m\u001b[0m\n\u001b[0;32m      4\u001b[0m \u001b[0mplt\u001b[0m\u001b[1;33m.\u001b[0m\u001b[0mylabel\u001b[0m\u001b[1;33m(\u001b[0m\u001b[1;34m\"Reward\"\u001b[0m\u001b[1;33m)\u001b[0m\u001b[1;33m\u001b[0m\u001b[1;33m\u001b[0m\u001b[0m\n\u001b[0;32m      5\u001b[0m \u001b[0mplt\u001b[0m\u001b[1;33m.\u001b[0m\u001b[0mshow\u001b[0m\u001b[1;33m(\u001b[0m\u001b[1;33m)\u001b[0m\u001b[1;33m\u001b[0m\u001b[1;33m\u001b[0m\u001b[0m\n",
      "\u001b[1;31mNameError\u001b[0m: name 'training_score' is not defined"
     ]
    }
   ],
   "source": [
    "x=list(range(len(training_score)))\n",
    "plt.plot(x, training_score)\n",
    "plt.xlabel(\"Iteration number\")\n",
    "plt.ylabel(\"Reward\")\n",
    "plt.show()"
   ]
  },
  {
   "cell_type": "code",
   "execution_count": null,
   "metadata": {},
   "outputs": [],
   "source": [
    "trained_model.save('trained_model.h5')"
   ]
  },
  {
   "cell_type": "code",
   "execution_count": null,
   "metadata": {},
   "outputs": [],
   "source": [
    "from keras.models import load_model\n",
    "model = load_model('trained_model.h5')"
   ]
  },
  {
   "cell_type": "code",
   "execution_count": 9,
   "metadata": {},
   "outputs": [
    {
     "name": "stdout",
     "output_type": "stream",
     "text": [
      "-76.09117154009367\n",
      "-131.60169391064753\n",
      "-408.2377808717626\n",
      "-182.96031703311473\n",
      "-359.96201733608706\n",
      "-121.26160167794612\n",
      "-216.90136446776316\n",
      "-501.2584007026191\n",
      "-74.72028169081048\n",
      "-127.00197073999618\n",
      "-109.30880091204284\n",
      "-178.78587977693718\n",
      "-115.91864816550228\n",
      "-197.01982445381321\n",
      "-98.54451388120903\n",
      "10.941737404175583\n",
      "-289.84081703933884\n",
      "-321.60963417668245\n",
      "-127.96548625071343\n",
      "-283.4306951108398\n",
      "-105.84525848540619\n",
      "-90.68991666245802\n",
      "-197.66198856399382\n",
      "-104.29179822725567\n",
      "-333.58161480855966\n",
      "-388.3357336889067\n",
      "-147.20942529575166\n",
      "-118.11830075591402\n",
      "-123.33705015373206\n",
      "-70.02705600225505\n",
      "4.838136517284781\n",
      "-106.53878603350991\n",
      "-152.88092331188983\n",
      "-368.18264031134527\n",
      "-173.95224217521542\n",
      "-68.71983727579436\n",
      "-227.9824360103706\n",
      "-297.1124843577488\n",
      "-89.53212830988443\n",
      "-100.624475821276\n",
      "-75.33534800608732\n",
      "-71.3494698211212\n",
      "-232.4138201448486\n",
      "-79.53578106721253\n",
      "-84.90792141697231\n",
      "-180.88894967853898\n",
      "-52.64260320556362\n",
      "-221.9220148920389\n",
      "-93.9058169619801\n",
      "-93.29161706209143\n",
      "-229.02902394468742\n",
      "-341.43761116536206\n",
      "-102.27971202019364\n",
      "-120.37182398904469\n",
      "-107.67321192934857\n",
      "-87.13149046370899\n",
      "-234.63026463094238\n",
      "-131.9957416761489\n",
      "-434.37322935393144\n",
      "-95.78916097935344\n",
      "-136.02678884482714\n",
      "-250.56918275081068\n",
      "-491.84461836619585\n",
      "-144.17723685782425\n",
      "-124.6735987621949\n",
      "-181.04306872705334\n",
      "-222.69402141909677\n",
      "-108.01129298283985\n",
      "-145.94741844929734\n",
      "-82.78609727150935\n",
      "17.833335002910815\n",
      "-146.13401064717021\n",
      "-83.3563318382978\n",
      "-118.98251486721907\n",
      "-378.5001134107254\n",
      "-70.23377906897214\n",
      "-101.91498094463277\n",
      "-396.36476446540394\n",
      "-305.49929435201307\n",
      "-87.21988856441865\n",
      "-90.8869877616128\n",
      "-188.6004803012332\n",
      "-147.75225620697887\n",
      "-146.82903457501868\n",
      "-84.89285577823776\n",
      "-102.98836920437388\n",
      "-206.04139653121373\n",
      "-257.50704869385504\n",
      "-287.09779852163865\n",
      "-74.71400012505956\n",
      "-289.87104220384487\n",
      "-356.61010430932106\n",
      "-137.96580502417586\n",
      "-103.4929175080449\n",
      "-146.02202298462367\n",
      "-76.45527046191815\n",
      "-123.14053044522288\n",
      "-128.63512940563584\n",
      "-207.896335921828\n",
      "-325.98239720971253\n"
     ]
    }
   ],
   "source": [
    "test_games_num = 100\n",
    "test_scores = []\n",
    "max_steps_in_game = 1000\n",
    "for game in range(test_games_num):\n",
    "    score = 0\n",
    "    observation = env.reset()  # get initial state\n",
    "    for step in range(max_steps_in_game):\n",
    "        env.render()  # show gif\n",
    "#         print(observation)  # print state vector 8, fixed for environment\n",
    "        action = env.action_space.sample()\n",
    "        observation, reward, done, info = env.step(action)  # step returns 4 parameters\n",
    "        score +=reward\n",
    "        if done:  # game over need reset\n",
    "#             print(\"Episode finished after {} timesteps\".format(step+1))\n",
    "            print(score)\n",
    "            break\n",
    "    test_scores.append(score)"
   ]
  },
  {
   "cell_type": "code",
   "execution_count": null,
   "metadata": {},
   "outputs": [],
   "source": []
  },
  {
   "cell_type": "code",
   "execution_count": 11,
   "metadata": {},
   "outputs": [
    {
     "name": "stdout",
     "output_type": "stream",
     "text": [
      "Average reward on test 100 games:  -172.83697185238046\n"
     ]
    }
   ],
   "source": [
    "print(\"Average reward on test 100 games: \", np.mean(test_scores))"
   ]
  },
  {
   "cell_type": "code",
   "execution_count": 12,
   "metadata": {},
   "outputs": [
    {
     "name": "stdout",
     "output_type": "stream",
     "text": [
      "Number of games in 100 where reward\n",
      "less than 0:  97\n",
      "equals 0:  0\n",
      "more than 0:  3\n",
      "equals or more than 100:  0\n",
      "equals or more than 200:  0\n"
     ]
    }
   ],
   "source": [
    "test_scores = np.array(test_scores)\n",
    "print(\"Number of games in 100 where reward\")\n",
    "print(\"less than 0: \", len(test_scores[test_scores<0]))\n",
    "print(\"equals 0: \", len(test_scores[test_scores==0]))\n",
    "print(\"more than 0: \", len(test_scores[test_scores>0]))\n",
    "print(\"equals or more than 100: \", len(test_scores[test_scores>=100]))\n",
    "print(\"equals or more than 200: \", len(test_scores[test_scores>=200]))"
   ]
  },
  {
   "cell_type": "code",
   "execution_count": 44,
   "metadata": {},
   "outputs": [
    {
     "data": {
      "text/plain": [
       "31"
      ]
     },
     "execution_count": 44,
     "metadata": {},
     "output_type": "execute_result"
    }
   ],
   "source": []
  },
  {
   "cell_type": "code",
   "execution_count": null,
   "metadata": {},
   "outputs": [],
   "source": []
  },
  {
   "cell_type": "code",
   "execution_count": null,
   "metadata": {},
   "outputs": [],
   "source": []
  }
 ],
 "metadata": {
  "kernelspec": {
   "display_name": "Python 3",
   "language": "python",
   "name": "python3"
  },
  "language_info": {
   "codemirror_mode": {
    "name": "ipython",
    "version": 3
   },
   "file_extension": ".py",
   "mimetype": "text/x-python",
   "name": "python",
   "nbconvert_exporter": "python",
   "pygments_lexer": "ipython3",
   "version": "3.7.4"
  }
 },
 "nbformat": 4,
 "nbformat_minor": 2
}
